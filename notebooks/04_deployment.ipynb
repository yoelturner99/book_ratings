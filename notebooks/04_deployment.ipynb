{
 "cells": [
  {
   "cell_type": "markdown",
   "metadata": {},
   "source": [
    "# DSTI ML Project A22 Cohort: Book Rating Predictor\n",
    "The aim of the project is to train and evaluate different models that predict a book’s rating from a GoodReads dataset"
   ]
  },
  {
   "cell_type": "code",
   "execution_count": 1,
   "metadata": {},
   "outputs": [],
   "source": [
    "# Ensure to select the .venv-book kernel before importing\n",
    "# Kernel > Change kernel > .venv-book\n",
    "\n",
    "import datetime\n",
    "import pickle\n",
    "import dvc.api\n",
    "import numpy as np\n",
    "import pandas as pd\n",
    "from sklearn import metrics\n",
    "from sklearn import preprocessing"
   ]
  },
  {
   "cell_type": "markdown",
   "metadata": {},
   "source": [
    "## 4) Deployment\n",
    "### 4.1) Preprocessing Function"
   ]
  },
  {
   "cell_type": "code",
   "execution_count": 2,
   "metadata": {},
   "outputs": [],
   "source": [
    "def books_prepro(df: pd.DataFrame) -> pd.DataFrame:\n",
    "    # Consants\n",
    "    p = 10\n",
    "    REF_DATE = datetime.date(2023, 8, 4)\n",
    "    labelEncode = preprocessing.LabelEncoder()\n",
    "    labelEncodeVar = [\"title\", \"author_1\", \"author_2\", \"publisher\"]\n",
    "    Qvars = [\"num_pages\", \"ratings_count\", \"text_reviews_count\"]\n",
    "\n",
    "    # Drop isbn column\n",
    "    df = df.drop(columns=[\"isbn\", \"isbn13\",  \"bookID\"])\n",
    "\n",
    "    # Aplly Quantile Regrouping\n",
    "    for var in Qvars:\n",
    "        var_Q = pd.qcut(df[var], p, labels=False)\n",
    "        var_Q = var_Q.rename(f\"{var}_p_{p}\")\n",
    "        df = pd.concat([df, var_Q], axis=1)\n",
    "\n",
    "    for index, row in df.iterrows():\n",
    "        # Language code standardization\n",
    "        if \"en\" in row[\"language_code\"]:\n",
    "            df.loc[index, \"language_code\"] =  1\n",
    "        else:\n",
    "            df.loc[index, \"language_code\"] = 0\n",
    "        \n",
    "        # Get title length\n",
    "        df.loc[index, \"title_len\"] = len(row[\"title\"])\n",
    "\n",
    "        # Split and get number of authors\n",
    "        authors = row[\"authors\"].split(\"/\")\n",
    "        for i, author in enumerate(authors[0:2]):\n",
    "            df.loc[index, f\"author_{i+1}\"] = author\n",
    "\n",
    "        # Date Transformation\n",
    "        p_date = row[\"publication_date\"]\n",
    "        try:\n",
    "            p_date2 = datetime.datetime.strptime(p_date,'%m/%d/%Y').date()\n",
    "            num_days = (REF_DATE - p_date2).days\n",
    "            df.at[index, \"publication_date\"] = num_days\n",
    "        except Exception as e:\n",
    "            df = df.drop(index=index)\n",
    "    \n",
    "    df[\"publication_date\"] = df[\"publication_date\"].astype(int)   \n",
    "    df[\"title_len\"] = df[\"title_len\"].astype(int)\n",
    "    df = df.drop(columns=[\"authors\"])\n",
    "\n",
    "    # Label Encoding\n",
    "    for var in labelEncodeVar:\n",
    "        df[var] = labelEncode.fit_transform(df[var])\n",
    "\n",
    "    df = df.drop(columns=[\"title\", \"ratings_count_p_10\"])\n",
    "\n",
    "    return df   "
   ]
  },
  {
   "cell_type": "markdown",
   "metadata": {},
   "source": [
    "### 4.2) Loading Data The Cloud\n",
    "We will use the DVC API to connect to the Github Repository where it will get the information to go to the cloud (Gdrive) and fetch the data."
   ]
  },
  {
   "cell_type": "code",
   "execution_count": 3,
   "metadata": {},
   "outputs": [
    {
     "name": "stdout",
     "output_type": "stream",
     "text": [
      "Shape of original dataset: (11123, 12)\n"
     ]
    }
   ],
   "source": [
    "with dvc.api.open(\n",
    "    path='data/books.csv',\n",
    "    repo=\"https://github.com/yoelturner99/book_ratings.git\",\n",
    "    mode='rb',\n",
    "    rev=\"v1\",\n",
    "    encoding=\"utf-8\"\n",
    ") as csv_file:\n",
    "    df = pd.read_csv(csv_file, on_bad_lines='skip')\n",
    "    # Clean the columns name\n",
    "    for col in df.columns:\n",
    "        df = df.rename(columns = {col: col.strip()})\n",
    "    print(f\"Shape of original dataset: {df.shape}\")\n",
    "\n",
    "# df = pd.read_csv(\"../data/books.csv\", on_bad_lines='skip')\n",
    "# # Clean the columns name\n",
    "# for col in df.columns:\n",
    "#     df = df.rename(columns = {col: col.strip()})\n",
    "# print(f\"Shape of original dataset: {df.shape}\")"
   ]
  },
  {
   "cell_type": "code",
   "execution_count": 4,
   "metadata": {},
   "outputs": [
    {
     "name": "stdout",
     "output_type": "stream",
     "text": [
      "Shape of preprocessed dataset: (11121, 12)\n"
     ]
    }
   ],
   "source": [
    "df_prepro = books_prepro(df)\n",
    "print(f\"Shape of preprocessed dataset: {df_prepro.shape}\")"
   ]
  },
  {
   "cell_type": "markdown",
   "metadata": {},
   "source": [
    "### 4.3) Loading Model From Cloud\n",
    "We will use the DVC API to connect to the Github Repository where it will get the information to go to the cloud (Gdrive) and fetch the model."
   ]
  },
  {
   "cell_type": "code",
   "execution_count": 5,
   "metadata": {},
   "outputs": [],
   "source": [
    "# /!\\ About 2-4 mins to run the cell\n",
    "modelpkl = dvc.api.read(\n",
    "    path='models/book_ratings_RDFR_100_df3.pt',\n",
    "    repo=\"https://github.com/yoelturner99/book_ratings.git\",\n",
    "    mode='rb',\n",
    "    rev=\"v1\"\n",
    ")\n",
    "model = pickle.loads(modelpkl)\n",
    "\n",
    "# with open(\"../models/book_ratings_RDFR_100_df3.pt\", 'rb') as modelpkl:\n",
    "#     model = pickle.load(modelpkl)"
   ]
  },
  {
   "cell_type": "markdown",
   "metadata": {},
   "source": [
    "### 4.4) Making Predictions"
   ]
  },
  {
   "cell_type": "code",
   "execution_count": 6,
   "metadata": {},
   "outputs": [],
   "source": [
    "# We convert to numpy arrays because upon trainng the inputs werescaled using a scaler.fit_transform()\n",
    "# Hence they were in array format and not dataframe format\n",
    "target = np.array(df_prepro[\"average_rating\"])\n",
    "features = np.array(df_prepro.drop(columns=\"average_rating\"))\n",
    "predictions = model.predict(features)"
   ]
  },
  {
   "cell_type": "code",
   "execution_count": 7,
   "metadata": {},
   "outputs": [
    {
     "name": "stdout",
     "output_type": "stream",
     "text": [
      "MAE: 0.2473     RMSE: 0.3708     R2: -0.1195\n"
     ]
    },
    {
     "data": {
      "text/html": [
       "<div>\n",
       "<style scoped>\n",
       "    .dataframe tbody tr th:only-of-type {\n",
       "        vertical-align: middle;\n",
       "    }\n",
       "\n",
       "    .dataframe tbody tr th {\n",
       "        vertical-align: top;\n",
       "    }\n",
       "\n",
       "    .dataframe thead th {\n",
       "        text-align: right;\n",
       "    }\n",
       "</style>\n",
       "<table border=\"1\" class=\"dataframe\">\n",
       "  <thead>\n",
       "    <tr style=\"text-align: right;\">\n",
       "      <th></th>\n",
       "      <th>Observed</th>\n",
       "      <th>Predicted</th>\n",
       "      <th>Diff</th>\n",
       "    </tr>\n",
       "  </thead>\n",
       "  <tbody>\n",
       "    <tr>\n",
       "      <th>0</th>\n",
       "      <td>4.57</td>\n",
       "      <td>4.0533</td>\n",
       "      <td>0.5167</td>\n",
       "    </tr>\n",
       "    <tr>\n",
       "      <th>1</th>\n",
       "      <td>4.49</td>\n",
       "      <td>4.0533</td>\n",
       "      <td>0.4367</td>\n",
       "    </tr>\n",
       "    <tr>\n",
       "      <th>2</th>\n",
       "      <td>4.42</td>\n",
       "      <td>4.0533</td>\n",
       "      <td>0.3667</td>\n",
       "    </tr>\n",
       "    <tr>\n",
       "      <th>3</th>\n",
       "      <td>4.56</td>\n",
       "      <td>4.0533</td>\n",
       "      <td>0.5067</td>\n",
       "    </tr>\n",
       "    <tr>\n",
       "      <th>4</th>\n",
       "      <td>4.78</td>\n",
       "      <td>4.0533</td>\n",
       "      <td>0.7267</td>\n",
       "    </tr>\n",
       "    <tr>\n",
       "      <th>5</th>\n",
       "      <td>3.74</td>\n",
       "      <td>4.0502</td>\n",
       "      <td>-0.3102</td>\n",
       "    </tr>\n",
       "    <tr>\n",
       "      <th>6</th>\n",
       "      <td>4.73</td>\n",
       "      <td>4.0533</td>\n",
       "      <td>0.6767</td>\n",
       "    </tr>\n",
       "    <tr>\n",
       "      <th>7</th>\n",
       "      <td>4.38</td>\n",
       "      <td>4.0533</td>\n",
       "      <td>0.3267</td>\n",
       "    </tr>\n",
       "    <tr>\n",
       "      <th>8</th>\n",
       "      <td>4.38</td>\n",
       "      <td>4.0533</td>\n",
       "      <td>0.3267</td>\n",
       "    </tr>\n",
       "    <tr>\n",
       "      <th>9</th>\n",
       "      <td>4.22</td>\n",
       "      <td>4.0533</td>\n",
       "      <td>0.1667</td>\n",
       "    </tr>\n",
       "  </tbody>\n",
       "</table>\n",
       "</div>"
      ],
      "text/plain": [
       "   Observed  Predicted    Diff\n",
       "0      4.57     4.0533  0.5167\n",
       "1      4.49     4.0533  0.4367\n",
       "2      4.42     4.0533  0.3667\n",
       "3      4.56     4.0533  0.5067\n",
       "4      4.78     4.0533  0.7267\n",
       "5      3.74     4.0502 -0.3102\n",
       "6      4.73     4.0533  0.6767\n",
       "7      4.38     4.0533  0.3267\n",
       "8      4.38     4.0533  0.3267\n",
       "9      4.22     4.0533  0.1667"
      ]
     },
     "execution_count": 7,
     "metadata": {},
     "output_type": "execute_result"
    }
   ],
   "source": [
    "mae = metrics.mean_absolute_error(target, predictions)\n",
    "rmse = np.sqrt(metrics.mean_squared_error(target, predictions))\n",
    "r2 = metrics.r2_score(target, predictions)\n",
    "\n",
    "print(f\"MAE: {mae:.4}     RMSE: {rmse:.4}     R2: {r2:.4}\")\n",
    "result = pd.DataFrame({'Observed': target.tolist(), 'Predicted': predictions.tolist()})\n",
    "result['Diff'] = result['Observed'] - result['Predicted']\n",
    "result.head(10)"
   ]
  }
 ],
 "metadata": {
  "kernelspec": {
   "display_name": ".venv-book",
   "language": "python",
   "name": "python3"
  },
  "language_info": {
   "codemirror_mode": {
    "name": "ipython",
    "version": 3
   },
   "file_extension": ".py",
   "mimetype": "text/x-python",
   "name": "python",
   "nbconvert_exporter": "python",
   "pygments_lexer": "ipython3",
   "version": "3.9.12"
  },
  "orig_nbformat": 4
 },
 "nbformat": 4,
 "nbformat_minor": 2
}
